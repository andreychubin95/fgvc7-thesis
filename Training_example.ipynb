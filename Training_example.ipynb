{
 "cells": [
  {
   "cell_type": "code",
   "execution_count": null,
   "id": "ff04f203-7cfa-4e3d-99f3-601eee125e26",
   "metadata": {},
   "outputs": [],
   "source": [
    "import warnings\n",
    "from torch.optim.lr_scheduler import ReduceLROnPlateau\n",
    "from torch.optim import Adam\n",
    "\n",
    "from thesis.experiment import Experiment\n",
    "from thesis.optim import Lion\n",
    "from thesis.models.model_wrapper import ModelWrapper\n",
    "from thesis.models import (\n",
    "    EfficientNetB7,\n",
    "    EfficientNetB3,\n",
    "    ConvNet,\n",
    "    Resnet50,\n",
    "    ResNeXt50\n",
    ")"
   ]
  },
  {
   "cell_type": "code",
   "execution_count": null,
   "id": "8caba823-baad-446f-9295-f043accfaf55",
   "metadata": {},
   "outputs": [],
   "source": [
    "warnings.filterwarnings('ignore')"
   ]
  },
  {
   "cell_type": "code",
   "execution_count": null,
   "id": "51d965b5-c7dc-4682-b755-e97f055f4668",
   "metadata": {},
   "outputs": [],
   "source": [
    "backbone = EfficientNetB7() # or any other suitable pytorch model (EfficientNetB3, ConvNet, Resnet50, ResNeXt50)\n",
    "# optimizer = Adam(backbone.parameters(), lr=1e-3, betas=(0.9, 0.999), eps=1e-08, weight_decay=0)\n",
    "optimizer = Lion(backbone.parameters(), lr=1e-4)\n",
    "scheduler = ReduceLROnPlateau(optimizer, factor=0.2, patience=3)\n",
    "model = ModelWrapper(backbone, optimizer, scheduler=scheduler)"
   ]
  },
  {
   "cell_type": "code",
   "execution_count": null,
   "id": "85774f59-895f-448e-b687-8dcf9dc44780",
   "metadata": {},
   "outputs": [],
   "source": [
    "exp = Experiment(\n",
    "    folder='path/to/folder/with/images',\n",
    "    batch_size=16, # 32 for models other then EfficientNetB7\n",
    "    model=model,\n",
    "    filename='name',\n",
    "    height=300, # 224 for non EfficientNet family\n",
    "    width=300 # 224 for non EfficientNet family\n",
    ")"
   ]
  },
  {
   "cell_type": "code",
   "execution_count": null,
   "id": "e6989a4e-ce77-425e-bc0b-455d50a6c765",
   "metadata": {},
   "outputs": [],
   "source": [
    "exp.run()"
   ]
  },
  {
   "cell_type": "code",
   "execution_count": null,
   "id": "837df5b6-8be6-4db1-af3a-6b085dff5c67",
   "metadata": {},
   "outputs": [],
   "source": [
    "exp.create_submission()"
   ]
  },
  {
   "cell_type": "code",
   "execution_count": null,
   "id": "e667c504-9793-4bca-bd3d-6c74d48d46f2",
   "metadata": {},
   "outputs": [],
   "source": [
    "exp.save_history()"
   ]
  },
  {
   "cell_type": "code",
   "execution_count": null,
   "id": "c45dab50-40ba-4004-adcd-46a770a23b91",
   "metadata": {},
   "outputs": [],
   "source": []
  }
 ],
 "metadata": {
  "kernelspec": {
   "display_name": "Python 3 (ipykernel)",
   "language": "python",
   "name": "python3"
  },
  "language_info": {
   "codemirror_mode": {
    "name": "ipython",
    "version": 3
   },
   "file_extension": ".py",
   "mimetype": "text/x-python",
   "name": "python",
   "nbconvert_exporter": "python",
   "pygments_lexer": "ipython3",
   "version": "3.9.15"
  }
 },
 "nbformat": 4,
 "nbformat_minor": 5
}
