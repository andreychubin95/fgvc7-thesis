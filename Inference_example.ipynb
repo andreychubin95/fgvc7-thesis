{
 "cells": [
  {
   "cell_type": "code",
   "execution_count": null,
   "id": "b955e14e-d0b5-4061-b482-7618284d9946",
   "metadata": {},
   "outputs": [],
   "source": [
    "import warnings\n",
    "\n",
    "import numpy as np\n",
    "import pandas as pd\n",
    "\n",
    "import lightning as pl\n",
    "from torch.optim.lr_scheduler import ReduceLROnPlateau\n",
    "\n",
    "import albumentations as albm\n",
    "from albumentations.pytorch import ToTensorV2 as ToTensor\n",
    "\n",
    "from tqdm import tqdm\n",
    "\n",
    "from thesis.utils import get_test_dataloader\n",
    "from thesis.optim import Lion\n",
    "from thesis.models import EfficientNetB7\n",
    "from thesis.models.model_wrapper import ModelWrapper\n",
    "from thesis.custom_callbacks import progress_bar, MetricsCallback, checkpoint_callback"
   ]
  },
  {
   "cell_type": "code",
   "execution_count": null,
   "id": "aace86b0-d6fa-4ae4-9553-7c30dcd1ba6e",
   "metadata": {},
   "outputs": [],
   "source": [
    "FOLDER = 'path/to/folder/with/images'\n",
    "BATCH_SIZE = 16 # can be any number, does not affects quality\n",
    "chkp_path = 'path/to/checkpoint.chkp'"
   ]
  },
  {
   "cell_type": "code",
   "execution_count": null,
   "id": "539cc862-8dcf-499e-a7aa-ff122c6f5c3a",
   "metadata": {},
   "outputs": [],
   "source": [
    "backbone = EfficientNetB7()\n",
    "optimizer = Lion(backbone.parameters(), lr=1e-4)   \n",
    "scheduler = ReduceLROnPlateau(optimizer, factor=0.2, patience=3)\n",
    "model = ModelWrapper.load_from_checkpoint(\n",
    "    chkp_path,\n",
    "    model=backbone,\n",
    "    optimizer=optimizer,\n",
    "    scheduler=scheduler\n",
    ")"
   ]
  },
  {
   "cell_type": "code",
   "execution_count": null,
   "id": "5f500480-258b-4c71-9819-e0dbe815d221",
   "metadata": {},
   "outputs": [],
   "source": [
    "# trainer can be used to continue training from checkpoint\n",
    "\n",
    "pb = progress_bar()\n",
    "ck = checkpoint_callback()\n",
    "\n",
    "trainer = pl.Trainer(\n",
    "    callbacks=[pb, MetricsCallback(), ck],\n",
    "    deterministic=False\n",
    ")"
   ]
  },
  {
   "cell_type": "code",
   "execution_count": null,
   "id": "b355b204-e33a-4b93-9ef9-9be57d50eae4",
   "metadata": {},
   "outputs": [],
   "source": [
    "df = pd.read_csv('path/to/file_with_images_paths.csv')\n",
    "df['path'] = df['image_id'] + '.jpg'"
   ]
  },
  {
   "cell_type": "code",
   "execution_count": null,
   "id": "83453542-a356-46aa-8283-55f930726c8a",
   "metadata": {},
   "outputs": [],
   "source": [
    "transforms = albm.Compose([\n",
    "    albm.Resize(height=300, width=300),\n",
    "    albm.Normalize((0.485, 0.456, 0.406), (0.229, 0.224, 0.225), always_apply=True),\n",
    "    ToTensor()\n",
    "])\n",
    "\n",
    "data_loader = get_test_dataloader(FOLDER, df, transforms, BATCH_SIZE)"
   ]
  },
  {
   "cell_type": "code",
   "execution_count": null,
   "id": "2a7230c2-537b-44f9-b45c-907ccc10dc4d",
   "metadata": {},
   "outputs": [],
   "source": [
    "preds = trainer.predict(model, data_loader, return_predictions=True)"
   ]
  },
  {
   "cell_type": "code",
   "execution_count": null,
   "id": "d9857175-447a-4874-ac14-cd034287d6ff",
   "metadata": {},
   "outputs": [],
   "source": [
    "preds = np.concatenate([x.numpy() for x in preds])\n",
    "y_pred = np.argmax(preds, axis=1)"
   ]
  }
 ],
 "metadata": {
  "kernelspec": {
   "display_name": "Python [conda env:pytorch-gpu] *",
   "language": "python",
   "name": "conda-env-pytorch-gpu-py"
  },
  "language_info": {
   "codemirror_mode": {
    "name": "ipython",
    "version": 3
   },
   "file_extension": ".py",
   "mimetype": "text/x-python",
   "name": "python",
   "nbconvert_exporter": "python",
   "pygments_lexer": "ipython3",
   "version": "3.9.15"
  }
 },
 "nbformat": 4,
 "nbformat_minor": 5
}
